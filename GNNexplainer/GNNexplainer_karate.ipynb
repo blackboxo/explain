{
 "cells": [
  {
   "cell_type": "code",
   "execution_count": null,
   "id": "736ef666",
   "metadata": {},
   "outputs": [],
   "source": [
    "import torch\n",
    "from torch_geometric.datasets import *\n",
    "import torch.nn.functional as F\n",
    "from torch_geometric.nn import GCNConv,GNNExplainer\n",
    "import networkx as nx\n",
    "import matplotlib.pyplot as plt"
   ]
  },
  {
   "cell_type": "code",
   "execution_count": null,
   "id": "0371b4c6",
   "metadata": {},
   "outputs": [],
   "source": [
    "dataset = KarateClub()\n",
    "G = nx.karate_club_graph()\n",
    "print(dataset[0])"
   ]
  },
  {
   "cell_type": "code",
   "execution_count": null,
   "id": "9c3b6f7d",
   "metadata": {},
   "outputs": [],
   "source": [
    "def plot_graph(label,G,title):\n",
    "    '''\n",
    "    G: a networkx G\n",
    "    '''\n",
    "    label = label.cpu().numpy()\n",
    "    for i in range (34):\n",
    "        (G.nodes[i]['club'])=label[i]\n",
    "    \n",
    "    plt.figure()\n",
    "    plt.title('Epoch '+str(title))\n",
    "    pos = nx.spring_layout(G)\n",
    "    edges = G.edges()\n",
    "    weights = None    \n",
    "    nodelist1 = []\n",
    "    nodelist2 = []\n",
    "    nodelist3 = []\n",
    "    nodelist4 = []\n",
    "    for i in range (34):\n",
    "        if G.nodes[i]['club'] == 0:\n",
    "            nodelist1.append(i)\n",
    "        elif G.nodes[i]['club'] == 1:\n",
    "            nodelist2.append(i)\n",
    "        elif G.nodes[i]['club'] == 2:\n",
    "            nodelist3.append(i)\n",
    "        elif G.nodes[i]['club'] == 3:\n",
    "            nodelist4.append(i)\n",
    "                #nx.draw_networkx(G, pos, edges=edges);\n",
    "    nx.draw(G,pos, with_labels=True)        \n",
    "    nx.draw_networkx_nodes(G, pos, nodelist=nodelist1, node_size=700, node_color='r',alpha = 0.8)\n",
    "    nx.draw_networkx_nodes(G, pos, nodelist=nodelist2, node_size=700, node_color='b',alpha = 0.8)\n",
    "    nx.draw_networkx_nodes(G, pos, nodelist=nodelist3, node_size=700, node_color='y',alpha = 0.8)\n",
    "    nx.draw_networkx_nodes(G, pos, nodelist=nodelist4, node_size=700, node_color='g',alpha = 0.8)                \n",
    "    nx.draw_networkx_edges(G, pos, edgelist=edges,alpha =0.4)\n"
   ]
  },
  {
   "cell_type": "code",
   "execution_count": 1,
   "id": "5ecd4f99",
   "metadata": {},
   "outputs": [
    {
     "ename": "AttributeError",
     "evalue": "module 'scipy.sparse' has no attribute 'coo_array'",
     "output_type": "error",
     "traceback": [
      "\u001b[0;31m---------------------------------------------------------------------------\u001b[0m",
      "\u001b[0;31mAttributeError\u001b[0m                            Traceback (most recent call last)",
      "Input \u001b[0;32mIn [1]\u001b[0m, in \u001b[0;36m<cell line: 6>\u001b[0;34m()\u001b[0m\n\u001b[1;32m      3\u001b[0m \u001b[38;5;28;01mimport\u001b[39;00m \u001b[38;5;21;01mtorch\u001b[39;00m\u001b[38;5;21;01m.\u001b[39;00m\u001b[38;5;21;01mnn\u001b[39;00m\u001b[38;5;21;01m.\u001b[39;00m\u001b[38;5;21;01mfunctional\u001b[39;00m \u001b[38;5;28;01mas\u001b[39;00m \u001b[38;5;21;01mF\u001b[39;00m\n\u001b[1;32m      4\u001b[0m \u001b[38;5;28;01mfrom\u001b[39;00m \u001b[38;5;21;01mtorch_geometric\u001b[39;00m\u001b[38;5;21;01m.\u001b[39;00m\u001b[38;5;21;01mnn\u001b[39;00m \u001b[38;5;28;01mimport\u001b[39;00m GCNConv\n\u001b[0;32m----> 6\u001b[0m dataset \u001b[38;5;241m=\u001b[39m \u001b[43mKarateClub\u001b[49m\u001b[43m(\u001b[49m\u001b[43m)\u001b[49m\n\u001b[1;32m      8\u001b[0m \u001b[38;5;28mprint\u001b[39m(dataset[\u001b[38;5;241m0\u001b[39m])\n\u001b[1;32m      9\u001b[0m \u001b[38;5;28mprint\u001b[39m(dataset[\u001b[38;5;241m0\u001b[39m]\u001b[38;5;241m.\u001b[39my)\n",
      "File \u001b[0;32m~/opt/anaconda3/envs/test/lib/python3.9/site-packages/torch_geometric/datasets/karate.py:50\u001b[0m, in \u001b[0;36mKarateClub.__init__\u001b[0;34m(self, transform)\u001b[0m\n\u001b[1;32m     47\u001b[0m x \u001b[38;5;241m=\u001b[39m torch\u001b[38;5;241m.\u001b[39meye(G\u001b[38;5;241m.\u001b[39mnumber_of_nodes(), dtype\u001b[38;5;241m=\u001b[39mtorch\u001b[38;5;241m.\u001b[39mfloat)\n\u001b[1;32m     49\u001b[0m \u001b[38;5;28;01mif\u001b[39;00m \u001b[38;5;28mhasattr\u001b[39m(nx, \u001b[38;5;124m'\u001b[39m\u001b[38;5;124mto_scipy_sparse_array\u001b[39m\u001b[38;5;124m'\u001b[39m):\n\u001b[0;32m---> 50\u001b[0m     adj \u001b[38;5;241m=\u001b[39m \u001b[43mnx\u001b[49m\u001b[38;5;241;43m.\u001b[39;49m\u001b[43mto_scipy_sparse_array\u001b[49m\u001b[43m(\u001b[49m\u001b[43mG\u001b[49m\u001b[43m)\u001b[49m\u001b[38;5;241m.\u001b[39mtocoo()\n\u001b[1;32m     51\u001b[0m \u001b[38;5;28;01melse\u001b[39;00m:\n\u001b[1;32m     52\u001b[0m     adj \u001b[38;5;241m=\u001b[39m nx\u001b[38;5;241m.\u001b[39mto_scipy_sparse_matrix(G)\u001b[38;5;241m.\u001b[39mtocoo()\n",
      "File \u001b[0;32m~/opt/anaconda3/envs/test/lib/python3.9/site-packages/networkx/convert_matrix.py:921\u001b[0m, in \u001b[0;36mto_scipy_sparse_array\u001b[0;34m(G, nodelist, dtype, weight, format)\u001b[0m\n\u001b[1;32m    919\u001b[0m         r \u001b[38;5;241m+\u001b[39m\u001b[38;5;241m=\u001b[39m diag_index\n\u001b[1;32m    920\u001b[0m         c \u001b[38;5;241m+\u001b[39m\u001b[38;5;241m=\u001b[39m diag_index\n\u001b[0;32m--> 921\u001b[0m     A \u001b[38;5;241m=\u001b[39m \u001b[43msp\u001b[49m\u001b[38;5;241;43m.\u001b[39;49m\u001b[43msparse\u001b[49m\u001b[38;5;241;43m.\u001b[39;49m\u001b[43mcoo_array\u001b[49m((d, (r, c)), shape\u001b[38;5;241m=\u001b[39m(nlen, nlen), dtype\u001b[38;5;241m=\u001b[39mdtype)\n\u001b[1;32m    922\u001b[0m \u001b[38;5;28;01mtry\u001b[39;00m:\n\u001b[1;32m    923\u001b[0m     \u001b[38;5;28;01mreturn\u001b[39;00m A\u001b[38;5;241m.\u001b[39masformat(\u001b[38;5;28mformat\u001b[39m)\n",
      "\u001b[0;31mAttributeError\u001b[0m: module 'scipy.sparse' has no attribute 'coo_array'"
     ]
    }
   ],
   "source": [
    "import torch\n",
    "from torch_geometric.datasets import *\n",
    "import torch.nn.functional as F\n",
    "from torch_geometric.nn import GCNConv\n",
    "\n",
    "dataset = KarateClub()\n",
    "\n",
    "print(dataset[0])\n",
    "print(dataset[0].y)\n"
   ]
  },
  {
   "cell_type": "code",
   "execution_count": null,
   "id": "93fded08",
   "metadata": {},
   "outputs": [],
   "source": [
    "class Net(torch.nn.Module):\n",
    "    def __init__(self):\n",
    "        super().__init__()\n",
    "        self.conv1 = GCNConv(dataset.num_node_features, 16)\n",
    "        self.conv2 = GCNConv(16, dataset.num_classes)\n",
    "        pass\n",
    "\n",
    "    def forward(self,x,edge_index):\n",
    "        #x, edge_index = data.x, data.edge_index\n",
    "\n",
    "        x = self.conv1(x, edge_index)\n",
    "        x = F.relu(x)\n",
    "        x = F.dropout(x, training=self.training)\n",
    "        x = self.conv2(x, edge_index)\n",
    "\n",
    "        return F.log_softmax(x, dim=1)\n",
    "    pass\n",
    "pass\n",
    "\n",
    "device = torch.device('cuda' if torch.cuda.is_available() else 'cpu')\n",
    "model = Net().to(device)\n",
    "data = dataset[0].to(device)\n",
    "optimizer = torch.optim.Adam(model.parameters(), lr=0.01)\n",
    "x, edge_index = data.x, data.edge_index\n",
    "\n",
    "for epoch in range(301):\n",
    "    \n",
    "    optimizer.zero_grad()\n",
    "    out = model(x,edge_index) #log_logits = model(x, edge_index)\n",
    "    loss = F.nll_loss(out[data.train_mask], data.y[data.train_mask]) #loss = F.nll_loss(log_logits[data.train_mask], data.y[data.train_mask])\n",
    "    loss.backward()\n",
    "    optimizer.step()\n",
    "\n",
    "    #print('Epoch {} | Loss: {:.4f}'.format(epoch,loss.item()))\n",
    "    model.eval()\n",
    "    _, pred = model(x,edge_index).max(dim=1)\n",
    "    #print(pred)\n",
    "    #print(pred.eq(data.y))\n",
    "    correct = int(pred.eq(data.y).sum().item())\n",
    "    acc = correct / int(data.x.sum())\n",
    "    #print('Accuracy:{:.4f}'.format(acc))\n",
    "    print('Epoch {} | Loss: {:.4f}'.format(epoch,loss.item())+' | Accuracy:{:.4f}'.format(acc))\n",
    "    if epoch%20==0:\n",
    "        plot_graph(pred,G,epoch)\n",
    "        plt.show()\n",
    "\n",
    "    pass\n",
    "pass"
   ]
  },
  {
   "cell_type": "code",
   "execution_count": null,
   "id": "e24c5ec9",
   "metadata": {},
   "outputs": [],
   "source": [
    "explainer = GNNExplainer(model, epochs=300)\n",
    "node_idx = 12\n",
    "node_feat_mask, edge_mask = explainer.explain_node(node_idx, x, edge_index)\n",
    "ax, G = explainer.visualize_subgraph(node_idx, edge_index, edge_mask, y=data.y)\n",
    "plt.show()"
   ]
  }
 ],
 "metadata": {
  "kernelspec": {
   "display_name": "Python 3 (ipykernel)",
   "language": "python",
   "name": "python3"
  },
  "language_info": {
   "codemirror_mode": {
    "name": "ipython",
    "version": 3
   },
   "file_extension": ".py",
   "mimetype": "text/x-python",
   "name": "python",
   "nbconvert_exporter": "python",
   "pygments_lexer": "ipython3",
   "version": "3.9.7"
  }
 },
 "nbformat": 4,
 "nbformat_minor": 5
}
